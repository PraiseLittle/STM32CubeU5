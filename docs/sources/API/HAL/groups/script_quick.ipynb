{
 "cells": [
  {
   "cell_type": "code",
   "execution_count": 1,
   "metadata": {},
   "outputs": [],
   "source": [
    "import os "
   ]
  },
  {
   "cell_type": "code",
   "execution_count": 2,
   "metadata": {},
   "outputs": [
    {
     "data": {
      "text/plain": [
       "'c:\\\\Users\\\\darochaj\\\\Work\\\\WorkDoc\\\\STM32CubeU5\\\\docs\\\\sources\\\\API\\\\groups'"
      ]
     },
     "execution_count": 2,
     "metadata": {},
     "output_type": "execute_result"
    }
   ],
   "source": [
    "os.getcwd()"
   ]
  },
  {
   "cell_type": "code",
   "execution_count": 4,
   "metadata": {},
   "outputs": [],
   "source": [
    "files = os.listdir()\n",
    "\n",
    "for file in files:\n",
    "    os.rename(file,file.replace('__','_'))"
   ]
  },
  {
   "cell_type": "code",
   "execution_count": 5,
   "metadata": {},
   "outputs": [],
   "source": [
    "files = os.listdir()"
   ]
  },
  {
   "cell_type": "code",
   "execution_count": 7,
   "metadata": {},
   "outputs": [
    {
     "name": "stdout",
     "output_type": "stream",
     "text": [
      "groups/group_CRC_Default_InitValue\n",
      "groups/group_CRC_Default_InitValue_Use\n",
      "groups/group_CRC_Default_Polynomial\n",
      "groups/group_CRC_Default_Polynomial_Value\n",
      "groups/group_CRC_Exported_Constants\n",
      "groups/group_CRC_Exported_Functions\n",
      "groups/group_CRC_Exported_Functions_Group1\n",
      "groups/group_CRC_Exported_Functions_Group2\n",
      "groups/group_CRC_Exported_Functions_Group3\n",
      "groups/group_CRC_Exported_Macros\n",
      "groups/group_CRC_Exported_Types\n",
      "groups/group_CRC_Input_Buffer_Format\n",
      "groups/group_CRC_Polynomial_Sizes\n",
      "groups/group_CRC_Polynomial_Size_Definitions\n",
      "groups/group_CRC_Private_Functions\n",
      "groups/group_CRC_Private_Macros\n",
      "groups/group_DCACHE\n",
      "groups/group_DCACHE_Configuration_Structure_definition\n",
      "groups/group_DCACHE_Error_Code\n",
      "groups/group_DCACHE_Exported_Constants\n",
      "groups/group_DCACHE_Exported_Functions\n",
      "groups/group_DCACHE_Exported_Functions_Group1\n",
      "groups/group_DCACHE_Exported_Functions_Group2\n",
      "groups/group_DCACHE_Exported_Functions_Group3\n",
      "groups/group_DCACHE_Exported_Macros\n",
      "groups/group_DCACHE_Exported_Types\n",
      "groups/group_DCACHE_Flags\n",
      "groups/group_DCACHE_Interrupts\n",
      "groups/group_DCACHE_Monitor_Type\n",
      "groups/group_DCACHE_Private_Constants\n",
      "groups/group_DCACHE_Private_Macros\n",
      "groups/group_DCACHE_Read_Burst_Type\n",
      "groups/script_quick.ipynb\n"
     ]
    }
   ],
   "source": [
    "for file in files:\n",
    "    print(f\"groups/{file.removesuffix('.rst')}\")"
   ]
  },
  {
   "cell_type": "code",
   "execution_count": null,
   "metadata": {},
   "outputs": [],
   "source": [
    "for files "
   ]
  }
 ],
 "metadata": {
  "kernelspec": {
   "display_name": "Python 3.10.7 64-bit",
   "language": "python",
   "name": "python3"
  },
  "language_info": {
   "codemirror_mode": {
    "name": "ipython",
    "version": 3
   },
   "file_extension": ".py",
   "mimetype": "text/x-python",
   "name": "python",
   "nbconvert_exporter": "python",
   "pygments_lexer": "ipython3",
   "version": "3.10.7"
  },
  "orig_nbformat": 4,
  "vscode": {
   "interpreter": {
    "hash": "8496c7f31c320b74e932855bad92a85bfc3a4ed700ec1451f0d68bf55bb9c90d"
   }
  }
 },
 "nbformat": 4,
 "nbformat_minor": 2
}
